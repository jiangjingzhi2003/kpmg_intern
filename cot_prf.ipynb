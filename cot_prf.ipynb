{
 "cells": [
  {
   "cell_type": "code",
   "execution_count": 1,
   "id": "fcff2772-872b-4b53-a79a-b41b7c3b64b7",
   "metadata": {
    "tags": []
   },
   "outputs": [],
   "source": [
    "import math"
   ]
  },
  {
   "cell_type": "code",
   "execution_count": null,
   "id": "c1accc7e-e7fe-4626-a25a-659897704d49",
   "metadata": {},
   "outputs": [],
   "source": [
    "cot_prf_template = \"\"\" \n",
    "Answer the following query based on the context:\n",
    "\n",
    "Context:{PRF doc 1}\n",
    "{PRF doc 2}\n",
    "{PRF doc 3}\n",
    "\n",
    "Query:{query}\n",
    "\n",
    "Give the rationale before answering\n",
    "\"\"\""
   ]
  },
  {
   "cell_type": "code",
   "execution_count": 2,
   "id": "63b45c45-cdf3-4ad1-8d8d-7b6c47d9f8d6",
   "metadata": {
    "tags": []
   },
   "outputs": [],
   "source": [
    "def read_file(file):\n",
    "    fp = open(file)\n",
    "    output = dict()\n",
    "    for line in fp.readlines():\n",
    "        print(line.strip().split('\\t'))\n",
    "        id, text = line.strip().split('\\t')\n",
    "        output[id] = text\n",
    "    return output\n",
    "\n",
    "def example_list2dict(input):\n",
    "    output = dict()\n",
    "    for word in input.split():\n",
    "        if output.get(word) is None:\n",
    "            output[word] = 0\n",
    "        output[word] += 1\n",
    "    return output\n",
    "\n",
    "def cal_idf(doc_dict):\n",
    "    doc_num = len(doc_dict)\n",
    "    idf = dict()\n",
    "    for doc_id in doc_dict:\n",
    "        doc_text = list(set(doc_dict[doc_id].split()))\n",
    "        for word in doc_text:\n",
    "            if idf.get(word) is None:\n",
    "                idf[word] = 0\n",
    "            idf[word] += 1\n",
    "    for word in idf:\n",
    "        idf[word] = math.log((doc_num - idf[word] + 0.5) / (idf[word] + 0.5))\n",
    "    return idf"
   ]
  },
  {
   "cell_type": "code",
   "execution_count": 3,
   "id": "572e7838-d7b7-4606-8bdf-031b40e75195",
   "metadata": {
    "tags": []
   },
   "outputs": [
    {
     "name": "stdout",
     "output_type": "stream",
     "text": [
      "[\"0'\\\\t'Jaguar is the luxury vehicle brand of Jaguar Land Rover, a British multinational car manufacturer with its headquarters in Whitley, Coventry England, owned by the Indian compnay Tata Motors.\"]\n"
     ]
    },
    {
     "ename": "ValueError",
     "evalue": "not enough values to unpack (expected 2, got 1)",
     "output_type": "error",
     "traceback": [
      "\u001b[0;31m---------------------------------------------------------------------------\u001b[0m",
      "\u001b[0;31mValueError\u001b[0m                                Traceback (most recent call last)",
      "Cell \u001b[0;32mIn[3], line 1\u001b[0m\n\u001b[0;32m----> 1\u001b[0m \u001b[43mread_file\u001b[49m\u001b[43m(\u001b[49m\u001b[38;5;124;43m\"\u001b[39;49m\u001b[38;5;124;43mPseudo-Relevance-Feedback/data/doc.txt\u001b[39;49m\u001b[38;5;124;43m\"\u001b[39;49m\u001b[43m)\u001b[49m\n",
      "Cell \u001b[0;32mIn[2], line 6\u001b[0m, in \u001b[0;36mread_file\u001b[0;34m(file)\u001b[0m\n\u001b[1;32m      4\u001b[0m \u001b[38;5;28;01mfor\u001b[39;00m line \u001b[38;5;129;01min\u001b[39;00m fp\u001b[38;5;241m.\u001b[39mreadlines():\n\u001b[1;32m      5\u001b[0m     \u001b[38;5;28mprint\u001b[39m(line\u001b[38;5;241m.\u001b[39mstrip()\u001b[38;5;241m.\u001b[39msplit(\u001b[38;5;124m'\u001b[39m\u001b[38;5;130;01m\\t\u001b[39;00m\u001b[38;5;124m'\u001b[39m))\n\u001b[0;32m----> 6\u001b[0m     \u001b[38;5;28mid\u001b[39m, text \u001b[38;5;241m=\u001b[39m line\u001b[38;5;241m.\u001b[39mstrip()\u001b[38;5;241m.\u001b[39msplit(\u001b[38;5;124m'\u001b[39m\u001b[38;5;130;01m\\t\u001b[39;00m\u001b[38;5;124m'\u001b[39m)\n\u001b[1;32m      7\u001b[0m     output[\u001b[38;5;28mid\u001b[39m] \u001b[38;5;241m=\u001b[39m text\n\u001b[1;32m      8\u001b[0m \u001b[38;5;28;01mreturn\u001b[39;00m output\n",
      "\u001b[0;31mValueError\u001b[0m: not enough values to unpack (expected 2, got 1)"
     ]
    }
   ],
   "source": [
    "read_file(\"Pseudo-Relevance-Feedback/data/doc.txt\")"
   ]
  },
  {
   "cell_type": "code",
   "execution_count": 2,
   "id": "78591dce-dc22-4023-8d40-9ee05810bb58",
   "metadata": {
    "tags": []
   },
   "outputs": [],
   "source": [
    "def bm25(query, doc, idf, avg_doc_len=374):\n",
    "    k1 = 1.2\n",
    "    k2 = 1\n",
    "    b = 0.75\n",
    "    score = 0.0\n",
    "    for word in query:\n",
    "        if doc.get(word) == None:\n",
    "            continue\n",
    "        W_i = idf[word]\n",
    "        f_i = doc[word]\n",
    "        qf_i = query[word]\n",
    "        doc_len = sum(doc.values())\n",
    "        K = k1 * (1 - b + b * doc_len / avg_doc_len)\n",
    "        R1 = f_i * (k1 + 1) / (f_i + K)\n",
    "        R2 = qf_i * (k2 + 1) / (qf_i + k2)\n",
    "        R = R1 * R2\n",
    "        score += W_i * R\n",
    "    return score"
   ]
  },
  {
   "cell_type": "code",
   "execution_count": null,
   "id": "736f7b8a-dc35-46ed-90e0-7773cb047704",
   "metadata": {},
   "outputs": [],
   "source": [
    "def GetScore(query, doc_name,doc_dict,idf):\n",
    "    query = example_list2dict(query)\n",
    "    doc = example_list2dict(doc_dict[doc_name])\n",
    "    score = bm25(query, doc, idf)\n",
    "    return score"
   ]
  },
  {
   "cell_type": "code",
   "execution_count": null,
   "id": "6b8104b4-272d-4e72-8ed9-57e9046e535a",
   "metadata": {},
   "outputs": [],
   "source": [
    "def find_prf(query, docs):\n",
    "    doc_list = split(docs)\n",
    "    prompt = \"find the most relevant passage to the query\"\n",
    "    llm(prompt + doc_list)\n",
    "    return doc"
   ]
  },
  {
   "cell_type": "code",
   "execution_count": null,
   "id": "9fe7f39a-025c-47ae-a08d-eeab747c5ab6",
   "metadata": {},
   "outputs": [],
   "source": [
    "def generate_cot_prf_prompt(query):\n",
    "    PRF_doc_list = []\n",
    "    \n",
    "    for i in range(3):\n",
    "        doc = find_prf(query, docs)\n",
    "        docs = doc_delete(docs,doc)\n",
    "        PRF_doc_list.append(doc)\n",
    "        \n",
    "    cot_prf_prompt = f\"\"\" \n",
    "    Answer the following query based on the context:\n",
    "\n",
    "    Context:{PRF_doc_list[0]}\n",
    "    {PRF_doc_list[1]}\n",
    "    {PRF_doc_list[2]}\n",
    "\n",
    "    Query:{query}\n",
    "\n",
    "    Give the rationale before answering\n",
    "    \n",
    "    \"\"\"\n",
    "    return cot_prf_prompt"
   ]
  }
 ],
 "metadata": {
  "kernelspec": {
   "display_name": "Python 3 (ipykernel)",
   "language": "python",
   "name": "python3"
  },
  "language_info": {
   "codemirror_mode": {
    "name": "ipython",
    "version": 3
   },
   "file_extension": ".py",
   "mimetype": "text/x-python",
   "name": "python",
   "nbconvert_exporter": "python",
   "pygments_lexer": "ipython3",
   "version": "3.8.10"
  }
 },
 "nbformat": 4,
 "nbformat_minor": 5
}
