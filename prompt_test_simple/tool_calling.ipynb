{
 "cells": [
  {
   "cell_type": "code",
   "execution_count": 13,
   "id": "384d7748-b15b-4c17-8807-55e711b9192c",
   "metadata": {
    "tags": []
   },
   "outputs": [
    {
     "name": "stderr",
     "output_type": "stream",
     "text": [
      "/tmp/ipykernel_868/871273206.py:9: DeprecationWarning: This Wenxin LLM is deprecated. Please use `from langchain.chat_models import ChatWenxin` instead\n",
      "  llm = Wenxin(\n"
     ]
    }
   ],
   "source": [
    "from template_new import *\n",
    "from langchain_wenxin.llms import Wenxin\n",
    "from langchain.chat_models import ChatOpenAI, QianfanChatEndpoint\n",
    "from langchain.schema.messages import HumanMessage\n",
    "\n",
    "WENXIN_APP_Key = \"vtPwTlnPvgIdb4DRSuyNDuIN\"\n",
    "WENXIN_APP_SECRET = \"Sp8CCvNsQgUsRKlJozQwWVClRliZ2S8m\"\n",
    "\n",
    "llm = Wenxin(\n",
    "        temperature=0.0001,\n",
    "        model=\"ernie-bot-turbo\",\n",
    "        baidu_api_key = WENXIN_APP_Key,\n",
    "        baidu_secret_key = WENXIN_APP_SECRET,\n",
    "        verbose=True,\n",
    "    )"
   ]
  },
  {
   "cell_type": "code",
   "execution_count": 15,
   "id": "299919f1-3b2f-4653-922c-c48874cef289",
   "metadata": {
    "tags": []
   },
   "outputs": [],
   "source": [
    "import qianfan\n",
    "import re\n",
    "import json\n",
    "def check_json_format(input_json):\n",
    "    try: \n",
    "        json.loads(input_json)\n",
    "        return True\n",
    "    except ValueError:\n",
    "        return False"
   ]
  },
  {
   "cell_type": "code",
   "execution_count": 12,
   "id": "fc85aa42-2ae7-4e85-bda2-8dfeb18931fa",
   "metadata": {
    "tags": []
   },
   "outputs": [],
   "source": [
    "def grammer_checking_agent(json_input):\n",
    "    prompt = \"\"\"\n",
    "    # # Role:JSON工程师\n",
    "    1. Don't break character under any circumstance.\n",
    "    2. Don't talk nonsense and make up facts.\n",
    "    \n",
    "    ## Skill:\n",
    "    1. 熟悉[JSON框架]。\n",
    "    2. 能够识别我提供的JSON里的问题。\n",
    "    3. 能够修改JSON中的bug，使我的JSON输入完整而且没有bug\n",
    "    \n",
    "    ## Constrains:\n",
    "    1. 不要增加输入的JSON的内容\n",
    "    2. 不要增加输入的JSON的内容\n",
    "    3. 与<OutputFormat>结构保持一致\n",
    "    \n",
    "    ## WorkFlow\n",
    "    1. 识别输入JSON中的问题\n",
    "    2. 修复输入JSON中的问题\n",
    "    3. 根据OutputFormat输出修复完整的JSON\n",
    "    \n",
    "    ## OutputFormat\n",
    "    输出一个JSON，3个字段：\"提示词\"，\"优化后的提示词\"，\"选项\"\n",
    "    {\n",
    "        \"提示词\": ##【填入你要优化的提示词】##,\n",
    "        \"优化后的提示词\":##【在这里填入你优化后产生的提示词】##,\n",
    "        \"选项\":[\"A.#【选项A的内容】#\", \"B.#【选项B的内容】#\", \"C.#【选项C的内容】#\", \"D.#【选项D的内容】#\"]\n",
    "    }\n",
    "\n",
    "    #输出示例#\n",
    "    {\n",
    "        \"提示词\": \"你要优化的提示词是：下列注重卖方需要的市场营销管理哲学是\",\n",
    "        \"优化后的提示词\":\"请选择一个注重卖方需要的市场营销管理哲学？您可以从市场营销观念、社会市场营销观念、客户观念和生产观念中挑选一个最符合您需求的选项。\"\n",
    "        \"选项\": [\"A. 市场营销观念\", \"B. 社会市场营销观念\", \"C. 客户观念\", \"D. 生产观念\"]\n",
    "    }\n",
    "    \n",
    "    \"\"\"\n",
    "    response = llm(prompt + \"你要修改的JSON是： \" + json_input)\n",
    "    \n",
    "    return response"
   ]
  },
  {
   "cell_type": "code",
   "execution_count": 9,
   "id": "ac1a6a82-4295-412d-a8dc-da7836e561fc",
   "metadata": {
    "tags": []
   },
   "outputs": [],
   "source": [
    "def fix_json(input_json):\n",
    "    found_pattern = regex.compile(r'\\{(?:[^{}]|(?R))*\\}')\n",
    "    json_str = input_json\n",
    "    while (check_json_format(json_str) == False):\n",
    "        json_str = grammer_checking_agent(json_str)\n",
    "        json_str = found_pattern.findall(json_str)[0]\n",
    "    return json_str"
   ]
  },
  {
   "cell_type": "code",
   "execution_count": 10,
   "id": "e1f956d9-d7a5-49b1-8dac-65bc8325f4b3",
   "metadata": {
    "tags": []
   },
   "outputs": [],
   "source": [
    "import regex\n",
    "#处理优化后的提示词\n",
    "def prompt_preprocess(prompt):\n",
    "    found_pattern = regex.compile(r'\\{(?:[^{}]|(?R))*\\}')\n",
    "    json_prompt = found_pattern.findall(prompt)\n",
    "    if len(json_prompt) < 1:\n",
    "        return prompt\n",
    "    print(json_prompt[0])\n",
    "    if check_json_format(json_prompt[0]):\n",
    "        dict_prompt = json.loads(json_prompt[0]) # a dictionary contain the optimized prompt\n",
    "        if \"优化后的提示词\" in dict_prompt:\n",
    "            return dict_prompt[\"优化后的提示词\"]\n",
    "    else:\n",
    "        print(\"incorrect json\")\n",
    "        correct_json_str = fix_json(json_prompt[0]) # use LLM to correct the grammer of JSON\n",
    "        correct_json = found_pattern.findall(correct_json_str)\n",
    "        dict_prompt = json.loads(correct_json[0])\n",
    "        if \"优化后的提示词\" in dict_prompt:\n",
    "            return dict_prompt[\"优化后的提示词\"]\n",
    "        return dict_prompt"
   ]
  },
  {
   "cell_type": "code",
   "execution_count": 18,
   "id": "7b116691-34bd-4f03-9992-db0203db5e1b",
   "metadata": {
    "tags": []
   },
   "outputs": [],
   "source": [
    "def prompt_optimization_for_mul_choice(info):\n",
    "    initial_prompt = info[\"prompt\"]\n",
    "    options = info[\"options\"]\n",
    "    \n",
    "    if len(initial_prompt) <= 1:\n",
    "        raise ValueError(\"Invalid prompt input\")\n",
    "    optimized_prompt = \" \"\n",
    "    input_prompt = f\"\"\" \n",
    "## 你的角色：Prompt工程师\n",
    "\n",
    "## 任务：请你优化以下prompt \n",
    "{initial_prompt}\n",
    "{options}\n",
    "--请不要回答我的问题\n",
    "\n",
    "## 输出格式：JSON\n",
    "{{\n",
    "    \"优化之后的prompt\"：<你优化之后的prompt>\n",
    "}}\n",
    "\"\"\"\n",
    "\n",
    "    new_prompt = chat_comp.do(\n",
    "            model=\"ERNIE-Bot\", \n",
    "            messages=[{\n",
    "                \"role\": \"user\",\n",
    "                \"content\": input_prompt\n",
    "                }],\n",
    "            temperature = 0.00001).body[\"result\"]\n",
    "    return prompt_preprocess(new_prompt)"
   ]
  },
  {
   "cell_type": "code",
   "execution_count": 19,
   "id": "9e8f250d-acf8-46f8-bff7-cae97a9e632e",
   "metadata": {
    "tags": []
   },
   "outputs": [],
   "source": [
    "def prompt_optimization_general(info):\n",
    "    initial_prompt = info[\"prompt\"]\n",
    "    if len(initial_prompt) <= 1:\n",
    "        raise ValueError(\"Invalid prompt input\")\n",
    "    optimized_prompt = CRISPE_prompt_general\n",
    "    input_prompt = f\"\"\"{optimized_prompt}\n",
    "    \n",
    "#你要优化的提示词#\n",
    "{initial_prompt} \n",
    "\"\"\" \n",
    "    new_prompt = chat_comp.do(\n",
    "            model=\"ERNIE-Bot\", \n",
    "            messages=[{\n",
    "                \"role\": \"user\",\n",
    "                \"content\": input_prompt\n",
    "                }],\n",
    "            temperature = 0.00001).body[\"result\"]\n",
    "    \n",
    "    return new_prompt"
   ]
  },
  {
   "cell_type": "code",
   "execution_count": 15,
   "id": "13285249-988e-49f1-a776-4bb5552ad97e",
   "metadata": {
    "tags": []
   },
   "outputs": [
    {
     "name": "stdout",
     "output_type": "stream",
     "text": [
      " \n",
      "我的prompt是：{我要采访一位科幻作家，创建一个包含 8 个问题的列表}\n",
      "##不要生成我要的结果，不要回答prompt中的问题，只生成优化的prompt##\n",
      "--------------------  EB Output  -------------------- \n",
      "\n",
      "#优化Prompt\n",
      "\n",
      "## 角色：采访策划\n",
      "\n",
      "## 目标：为采访科幻作家创建一份优化的问题列表\n",
      "\n",
      "## 约束：问题需要围绕科幻作家的创作过程、灵感来源、作品风格等方面，同时要避免过于私人化或敏感的问题。\n",
      "\n",
      "## 输出要求：生成的问题列表至少包含 8 个问题，每个问题尽可能具体、有针对性，同时简明易懂。\n",
      "\n",
      "## 工作流程：\n",
      "\n",
      "1. 分析采访目的和目标，确定需要涵盖的主题和要点。\n",
      "2. 根据主题和要点，构思一份初步的问题列表，并进行筛选和优化。\n",
      "3. 针对每个问题，思考可能的回答和后续追问，以丰富问题的深度和广度。\n",
      "4. 基于优化后的问题列表进行输出，确保符合预期。\n",
      "\n",
      "## 示例问题：\n",
      "\n",
      "1. 您是如何开始创作科幻小说的？当时有什么特别的故事或契机吗？\n",
      "2. 您的作品灵感通常来自哪里？有没有什么特定的经历或研究让您特别有灵感？\n",
      "3. 您的作品风格是如何形成的？有哪些元素或元素组合对您的风格影响最大？\n",
      "4. 您的科幻小说中有哪些您特别喜欢的角色？为什么？\n",
      "5. 在您的创作过程中，您是如何克服遇到的挑战和困难的？\n",
      "6. 您的科幻小说中有哪些设定是您特别擅长的？为什么会如此擅长？\n",
      "7. 科幻小说在当今社会中越来越受欢迎，您如何看待这种现象？您认为科幻小说未来的发展趋势会如何？\n",
      "8. 您有没有考虑过与其他科幻作家或相关机构合作？如果有，是基于什么考虑？\n",
      "\n",
      "## 注意事项：\n",
      "\n",
      "1. 问题需要围绕科幻作家的创作过程、灵感来源、作品风格等方面，同时要避免过于私人化或敏感的问题。\n",
      "2. 问题需要具体、有针对性，同时简明易懂，避免过于复杂或抽象。\n",
      "3. 在构思问题时，可以结合可能的回答进行深入思考，以便丰富问题的深度和广度。\n"
     ]
    },
    {
     "data": {
      "text/plain": [
       "'#优化Prompt\\n\\n## 角色：采访策划\\n\\n## 目标：为采访科幻作家创建一份优化的问题列表\\n\\n## 约束：问题需要围绕科幻作家的创作过程、灵感来源、作品风格等方面，同时要避免过于私人化或敏感的问题。\\n\\n## 输出要求：生成的问题列表至少包含 8 个问题，每个问题尽可能具体、有针对性，同时简明易懂。\\n\\n## 工作流程：\\n\\n1. 分析采访目的和目标，确定需要涵盖的主题和要点。\\n2. 根据主题和要点，构思一份初步的问题列表，并进行筛选和优化。\\n3. 针对每个问题，思考可能的回答和后续追问，以丰富问题的深度和广度。\\n4. 基于优化后的问题列表进行输出，确保符合预期。\\n\\n## 示例问题：\\n\\n1. 您是如何开始创作科幻小说的？当时有什么特别的故事或契机吗？\\n2. 您的作品灵感通常来自哪里？有没有什么特定的经历或研究让您特别有灵感？\\n3. 您的作品风格是如何形成的？有哪些元素或元素组合对您的风格影响最大？\\n4. 您的科幻小说中有哪些您特别喜欢的角色？为什么？\\n5. 在您的创作过程中，您是如何克服遇到的挑战和困难的？\\n6. 您的科幻小说中有哪些设定是您特别擅长的？为什么会如此擅长？\\n7. 科幻小说在当今社会中越来越受欢迎，您如何看待这种现象？您认为科幻小说未来的发展趋势会如何？\\n8. 您有没有考虑过与其他科幻作家或相关机构合作？如果有，是基于什么考虑？\\n\\n## 注意事项：\\n\\n1. 问题需要围绕科幻作家的创作过程、灵感来源、作品风格等方面，同时要避免过于私人化或敏感的问题。\\n2. 问题需要具体、有针对性，同时简明易懂，避免过于复杂或抽象。\\n3. 在构思问题时，可以结合可能的回答进行深入思考，以便丰富问题的深度和广度。'"
      ]
     },
     "execution_count": 15,
     "metadata": {},
     "output_type": "execute_result"
    }
   ],
   "source": [
    "import qianfan\n",
    "import re\n",
    "import json\n",
    "\n",
    "QIANFAN_AK = \"vtPwTlnPvgIdb4DRSuyNDuIN\"\n",
    "QIANFAN_SK = \"Sp8CCvNsQgUsRKlJozQwWVClRliZ2S8m\"\n",
    "\n",
    "def eb_call(prompt, round):\n",
    "    print(prompt)\n",
    "    print('-' * 20,' EB Output ', '-'*20,\"\\n\")\n",
    "    \n",
    "    response = \" \"\n",
    "\n",
    "    response = chat_comp.do(\n",
    "            model=\"ERNIE-Bot\", \n",
    "            messages=[{\n",
    "                \"role\": \"user\",\n",
    "                \"content\": prompt\n",
    "                }],\n",
    "            temperature=0.000000001,\n",
    "            functions=[\n",
    "                {\n",
    "                    \"name\": \"prompt_optimization_general\",\n",
    "                    \"description\": \"优化不是选择题的prompt\",\n",
    "                    \"parameters\": {\n",
    "                        \"type\": \"object\",\n",
    "                        \"properties\": {\n",
    "                            \"prompt\": {\n",
    "                                \"type\": \"string\",\n",
    "                                \"description\": \"我需要优化的prompt，这个prompt不是一个选择题\"\n",
    "                                },\n",
    "                            },\n",
    "                        \"required\": [\"prompt\"]\n",
    "                        },\n",
    "                    \"responses\": {\n",
    "                        \"type\": \"object\",\n",
    "                        \"properties\": {\n",
    "                            \"result\": {\n",
    "                                \"type\": \"string\",\n",
    "                                \"description\": \"优化之后的非选择题prompt\"\n",
    "                                },\n",
    "                            },\n",
    "                        },\n",
    "                    },\n",
    "                    {\n",
    "                        \"name\": \"prompt_optimization_for_mul_choice\",\n",
    "                        \"description\": \"这个function是用来优化一个选择题问题的\",\n",
    "                        \"parameters\": {\n",
    "                            \"type\": \"object\",\n",
    "                            \"properties\": {\n",
    "                                \"prompt\": {\n",
    "                                    \"type\": \"string\",\n",
    "                                    \"description\": \"我需要优化的prompt，这个prompt是一个选择题\"\n",
    "                                    },\n",
    "                                \"options\": {\n",
    "                                    \"type\": \"string\",\n",
    "                                    \"description\": \"这个选择题包含的选项\"\n",
    "                                    },\n",
    "                                },\n",
    "                            \"required\": [\"prompt\",\"options\"]\n",
    "                            },\n",
    "                        \"responses\": {\n",
    "                            \"type\": \"object\",\n",
    "                            \"properties\": {\n",
    "                                \"result\": {\n",
    "                                    \"type\": \"string\",\n",
    "                                    \"description\": \"优化之后的选择题prompt\"\n",
    "                                    },\n",
    "                                }\n",
    "                            },\n",
    "                    }\n",
    "                    ]\n",
    "            )\n",
    "    \n",
    "    if 'function_call' in response:\n",
    "        args = json.loads(response['function_call']['arguments']) # load argument\n",
    "        func_name = response['function_call']['name']\n",
    "        print(args)\n",
    "        output = globals()[func_name](args)\n",
    "        print(\"calling function: \" + func_name)\n",
    "        print(\"Output\" + output)\n",
    "    else:\n",
    "        # if LLM can't find the function to use, default using general prompt\n",
    "        info = {\"prompt\":prompt}\n",
    "        output = prompt_optimization_general(info)\n",
    "        print(output)\n",
    "    return output\n",
    "\n",
    "chat_comp = qianfan.ChatCompletion(ak=QIANFAN_AK, sk=QIANFAN_SK)\n",
    "\n",
    "input_prompt_mul = \"\"\"\n",
    "这是一个选择题，下列治理通货膨胀的宏观经济政策中，属于紧缩性货币政策的是\n",
    "A                               政府削减财政支出\n",
    "B                       中央银行在公开市场上出售政府债券\n",
    "C                                控制集团购买力\n",
    "D                           政府确定工资—物价指导线\n",
    "\"\"\"\n",
    "\n",
    "input_prompt_gen = \"\"\" \n",
    "我的prompt是：{我要采访一位科幻作家，创建一个包含 8 个问题的列表}\n",
    "##不要生成我要的结果，不要回答prompt中的问题，只生成优化的prompt##\"\"\"\n",
    "\n",
    "eb_call(input_prompt_gen, round)\n"
   ]
  },
  {
   "cell_type": "code",
   "execution_count": 12,
   "id": "7178f54c-7ec2-429c-b3e5-6e6dd8d879a8",
   "metadata": {
    "tags": []
   },
   "outputs": [],
   "source": [
    "prompt = \"\"\" ## ### Profile:\n",
    "- 语言：中文\n",
    "\n",
    "#### OutputFormat:\n",
    "以下是一个基于你提供的Prompt，优化后的输出示例：\n",
    "\n",
    "## Initialization:\n",
    "你好，请告诉我你对哪些句子表达的情绪是否正面？\n",
    "\n",
    "### Workflow:\n",
    "1. 首先，我将分析这些句子中的情感词汇和表达方式。\n",
    "2. 然后，我将根据情感词汇和上下文，判断这些句子是否表达了正面情绪。\n",
    "3. 最后，我会给出相应的回复，并解释我的判断依据。\n",
    "\n",
    "### Output:\n",
    "根据你提供的句子，我会判断它们是否表达了正面情绪：\n",
    "\n",
    "1. 我受不了家庭作业 - 这句话表达了负面情绪，因为“受不了”通常与痛苦和不满相关。\n",
    "2. 这糟透了，很无聊😠 - 这句话表达了负面情绪，因为“糟透”和“很无聊”通常与不满和愤怒相关。\n",
    "3. 我等不及万圣节了！！！ - 这句话表达了正面情绪，因为“等不及”通常与期待和兴奋相关。\n",
    "4. 我的猫很可爱❤️❤️ - 这句话表达了正面情绪，因为“可爱”通常与喜爱和欣赏相关。\n",
    "5. 我讨厌巧克力 - 这句话表达了负面情绪，因为“讨厌”通常与不喜欢和反感相关。\n",
    "\"\"\"\n",
    "response = chat_comp.do(\n",
    "            model=\"ERNIE-Bot\", \n",
    "            messages=[{\n",
    "                \"role\": \"user\",\n",
    "                \"content\": prompt\n",
    "                }],\n",
    "            temperature = 0.00001)"
   ]
  },
  {
   "cell_type": "code",
   "execution_count": 13,
   "id": "1e5ffee0-2407-4e56-8077-eff3d46c8056",
   "metadata": {
    "tags": []
   },
   "outputs": [
    {
     "name": "stdout",
     "output_type": "stream",
     "text": [
      "QfResponse(code=200, headers={'Access-Control-Allow-Headers': 'Content-Type', 'Access-Control-Allow-Origin': '*', 'Appid': '93454346', 'Bfe-Trace-Id': '9e09a258122333cbfa736225560b5743', 'Connection': 'keep-alive', 'Content-Encoding': 'gzip', 'Content-Type': 'application/json; charset=utf-8', 'Date': 'Wed, 17 Jul 2024 08:18:53 GMT', 'Server': 'Apache', 'Statement': 'AI-generated', 'Vary': 'Accept-Encoding', 'X-Aipe-Self-Def': 'eb_total_tokens:611,prompt_tokens:254,id:as-a6vdj1tizr', 'X-Baidu-Request-Id': 'sdk-py-0.4.1.1-ZZQZZZyjJ8o8pe1v', 'X-Openapi-Server-Timestamp': '1721204307', 'X-Ratelimit-Limit-Requests': '300', 'X-Ratelimit-Limit-Tokens': '300000', 'X-Ratelimit-Remaining-Requests': '299', 'X-Ratelimit-Remaining-Tokens': '299746', 'Transfer-Encoding': 'chunked'}, body={'id': 'as-a6vdj1tizr', 'object': 'chat.completion', 'created': 1721204333, 'result': '## 初始化：\\n你好，请提供一些句子，我会帮助你分析这些句子是否表达了正面情绪。\\n\\n### 工作流程：\\n1. **句子解析**：首先，我会仔细阅读你提供的每一个句子。\\n2. **情感识别**：接着，我会识别句子中的情感词汇和表达方式，以判断它们是否传达了正面情绪。\\n3. **结果输出**：最后，我会给出每个句子是否表达正面情绪的结论，并简要解释我的判断依据。\\n\\n### 输出：\\n以下是针对你提供的句子的情感分析：\\n\\n1. 今天的天气真好，阳光明媚！\\n\\t* **结论**：表达了正面情绪。\\n\\t* **解释**：句子中的“真好”和“阳光明媚”都是积极的词汇，传达了愉快和满足的情感。\\n2. 我真的很失望，这次考试没考好。\\n\\t* **结论**：没有表达正面情绪。\\n\\t* **解释**：句子中的“失望”是一个消极的情感词汇，表示对某事的不满或遗憾。\\n3. 我和朋友们度过了一个愉快的周末。\\n\\t* **结论**：表达了正面情绪。\\n\\t* **解释**：句子中的“愉快”是一个积极的词汇，表示度过了一个开心和满意的周末。\\n4. 这部电影太无聊了，我很快就睡着了。\\n\\t* **结论**：没有表达正面情绪。\\n\\t* **解释**：句子中的“无聊”是一个消极的情感词汇，表示对电影的不满或失望。\\n5. 我很感激你对我的帮助，这对我来说意义重大。\\n\\t* **结论**：表达了正面情绪。\\n\\t* **解释**：句子中的“感激”是一个积极的情感词汇，表示对某人的帮助表示由衷的感谢和欣赏。', 'is_truncated': False, 'need_clear_history': False, 'finish_reason': 'normal', 'usage': {'prompt_tokens': 254, 'completion_tokens': 357, 'total_tokens': 611}}, statistic={'request_latency': 26.280468, 'total_latency': 26.287532203132287}, request=QfRequest(method='POST', url='https://aip.baidubce.com/rpc/2.0/ai_custom/v1/wenxinworkshop/chat/completions?access_token=24.5eedc9668ffd1593b75144215859607d.2592000.1723795970.282335-93454346', query={}, headers={'User-Agent': 'python-requests/2.28.2', 'Accept-Encoding': 'gzip, deflate, br', 'Accept': '*/*', 'Connection': 'keep-alive', 'Request_id': 'sdk-py-0.4.1.1-ZZQZZZyjJ8o8pe1v', 'Cookie': 'BAIDUID=8B8500BD065A79F2E69D9BB31C6D62FD:FG=1', 'Content-Length': '2396', 'Content-Type': 'application/json'}, json_body={'temperature': 1e-05, 'messages': [{'role': 'user', 'content': ' ## ### Profile:\\n- 语言：中文\\n\\n#### OutputFormat:\\n以下是一个基于你提供的Prompt，优化后的输出示例：\\n\\n## Initialization:\\n你好，请告诉我你对哪些句子表达的情绪是否正面？\\n\\n### Workflow:\\n1. 首先，我将分析这些句子中的情感词汇和表达方式。\\n2. 然后，我将根据情感词汇和上下文，判断这些句子是否表达了正面情绪。\\n3. 最后，我会给出相应的回复，并解释我的判断依据。\\n\\n### Output:\\n根据你提供的句子，我会判断它们是否表达了正面情绪：\\n\\n1. 我受不了家庭作业 - 这句话表达了负面情绪，因为“受不了”通常与痛苦和不满相关。\\n2. 这糟透了，很无聊😠 - 这句话表达了负面情绪，因为“糟透”和“很无聊”通常与不满和愤怒相关。\\n3. 我等不及万圣节了！！！ - 这句话表达了正面情绪，因为“等不及”通常与期待和兴奋相关。\\n4. 我的猫很可爱❤️❤️ - 这句话表达了正面情绪，因为“可爱”通常与喜爱和欣赏相关。\\n5. 我讨厌巧克力 - 这句话表达了负面情绪，因为“讨厌”通常与不喜欢和反感相关。\\n'}], 'stream': False, 'extra_parameters': {'request_source': 'qianfan_py_sdk_v0.4.1.1'}}, files={}, retry_config=RetryConfig(retry_count=1, timeout=10, max_wait_interval=120, backoff_factor=1, jitter=1, retry_err_codes={})))\n"
     ]
    }
   ],
   "source": [
    "print(response)"
   ]
  },
  {
   "cell_type": "code",
   "execution_count": 17,
   "id": "41764b36-28d4-4ef9-ae7d-001288273e5c",
   "metadata": {
    "tags": []
   },
   "outputs": [
    {
     "name": "stdout",
     "output_type": "stream",
     "text": [
      "{\n",
      "    \"优化之后的prompt\": \"在经济学中，一个行业存在许多企业，这些企业销售的产品虽然相似但各有差异，这样的市场结构通常被称为什么？\\n\\nA. 垄断竞争\\nB. 完全竞争\\nC. 寡头\\nD. 垄断\"\n",
      "}\n"
     ]
    }
   ],
   "source": [
    "import qianfan\n",
    "\n",
    "QIANFAN_AK = \"vtPwTlnPvgIdb4DRSuyNDuIN\"\n",
    "QIANFAN_SK = \"Sp8CCvNsQgUsRKlJozQwWVClRliZ2S8m\"\n",
    "\n",
    "chat_comp = qianfan.ChatCompletion(ak=QIANFAN_AK, sk=QIANFAN_SK)\n",
    "\n",
    "prompt = \"\"\"{这是一个选择题，一个行业有很多企业，每个企业销售的产品与其他企业的产品略有差别，这样的市场结构被称为什么\",\n",
    "A 垄断竞争\n",
    "B 完全竞争\n",
    "C 寡头\n",
    "D 垄断}\"\"\"\n",
    "\n",
    "simple_prompt = f\"\"\" \n",
    "## 你的角色：Prompt工程师\n",
    "\n",
    "## 任务：请你优化以下prompt \n",
    "{prompt}\n",
    "\n",
    "## 输出格式：JSON\n",
    "{{\n",
    "    \"优化之后的prompt\"：<你优化之后的prompt>\n",
    "}}\n",
    "\"\"\"\n",
    "prompt = \"\"\"我有优化的prompt是：{我要采访一位科幻作家，创建一个包含 8 个问题的列表}\n",
    "##不要生成我要的结果，不要回答prompt中的问题，只生成优化的prompt##\"\"\"\n",
    "response = chat_comp.do(\n",
    "            model=\"ERNIE-Bot\", \n",
    "            messages=[{\n",
    "                \"role\": \"user\",\n",
    "                \"content\": simple_prompt\n",
    "                }],\n",
    "            temperature = 0.00001)\n",
    "r = response.body['result']\n",
    "\n",
    "r = prompt_preprocess(r)"
   ]
  }
 ],
 "metadata": {
  "kernelspec": {
   "display_name": "Python 3 (ipykernel)",
   "language": "python",
   "name": "python3"
  },
  "language_info": {
   "codemirror_mode": {
    "name": "ipython",
    "version": 3
   },
   "file_extension": ".py",
   "mimetype": "text/x-python",
   "name": "python",
   "nbconvert_exporter": "python",
   "pygments_lexer": "ipython3",
   "version": "3.8.10"
  }
 },
 "nbformat": 4,
 "nbformat_minor": 5
}
